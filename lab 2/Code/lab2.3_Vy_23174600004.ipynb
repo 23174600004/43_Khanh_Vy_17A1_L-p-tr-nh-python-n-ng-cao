{
 "cells": [
  {
   "cell_type": "code",
   "execution_count": 4,
   "metadata": {},
   "outputs": [
    {
     "name": "stdout",
     "output_type": "stream",
     "text": [
      "Thu muc hien tai: d:\\lab 2\\Code\n"
     ]
    }
   ],
   "source": [
    "import os\n",
    "print(\"Thu muc hien tai:\",os.getcwd())"
   ]
  },
  {
   "cell_type": "code",
   "execution_count": 6,
   "metadata": {},
   "outputs": [
    {
     "name": "stdout",
     "output_type": "stream",
     "text": [
      "Efficiency: [94.0, 97.0, 114.0, 117.0, 117.0]\n",
      "Shifts: ['Afternoon', 'Afternoon', 'Afternoon', 'Morning', 'Afternoon']\n"
     ]
    }
   ],
   "source": [
    "# Đọc dữ liệu từ file efficiency.txt\n",
    "with open('efficiency.txt', 'r') as file:\n",
    "    efficiency = [float(line.strip()) for line in file]\n",
    "\n",
    "# Đọc dữ liệu từ file shifts.txt\n",
    "with open('shifts.txt', 'r') as file:\n",
    "    shifts = [line.strip() for line in file]\n",
    "\n",
    "# Kiểm tra dữ liệu\n",
    "print(\"Efficiency:\", efficiency[:5])  # In 5 dòng đầu để kiểm tra\n",
    "print(\"Shifts:\", shifts[:5])"
   ]
  },
  {
   "cell_type": "code",
   "execution_count": 7,
   "metadata": {},
   "outputs": [
    {
     "name": "stdout",
     "output_type": "stream",
     "text": [
      "Kiểu dữ liệu của np_shifts: <U9\n",
      "Dữ liệu trong np_shifts: ['Afternoon' 'Afternoon' 'Afternoon' 'Morning' 'Afternoon']\n"
     ]
    }
   ],
   "source": [
    "import numpy as np\n",
    "\n",
    "# Tạo numpy array từ list shifts\n",
    "np_shifts = np.array(shifts)\n",
    "print(\"Kiểu dữ liệu của np_shifts:\", np_shifts.dtype)\n",
    "print(\"Dữ liệu trong np_shifts:\", np_shifts[:5])"
   ]
  },
  {
   "cell_type": "code",
   "execution_count": 8,
   "metadata": {},
   "outputs": [
    {
     "name": "stdout",
     "output_type": "stream",
     "text": [
      "Kiểu dữ liệu của np_efficiency: float64\n",
      "Dữ liệu trong np_efficiency: [ 94.  97. 114. 117. 117.]\n"
     ]
    }
   ],
   "source": [
    "# Tạo numpy array từ list efficiency\n",
    "np_efficiency = np.array(efficiency)\n",
    "print(\"Kiểu dữ liệu của np_efficiency:\", np_efficiency.dtype)\n",
    "print(\"Dữ liệu trong np_efficiency:\", np_efficiency[:5])"
   ]
  },
  {
   "cell_type": "code",
   "execution_count": 9,
   "metadata": {},
   "outputs": [
    {
     "name": "stdout",
     "output_type": "stream",
     "text": [
      "Hiệu suất trung bình của nhân viên ca Morning: 96.8529411764706\n"
     ]
    }
   ],
   "source": [
    "# Lọc hiệu suất của những người làm việc ca 'Morning'\n",
    "morning_efficiency = np_efficiency[np_shifts == 'Morning']\n",
    "mean_morning = np.mean(morning_efficiency)\n",
    "print(\"Hiệu suất trung bình của nhân viên ca Morning:\", mean_morning)\n"
   ]
  },
  {
   "cell_type": "code",
   "execution_count": 10,
   "metadata": {},
   "outputs": [
    {
     "name": "stdout",
     "output_type": "stream",
     "text": [
      "Hiệu suất trung bình của nhân viên không làm ca Morning: 98.93939393939394\n"
     ]
    }
   ],
   "source": [
    "# Lọc hiệu suất của những người không làm ca 'Morning'\n",
    "other_efficiency = np_efficiency[np_shifts != 'Morning']\n",
    "mean_other = np.mean(other_efficiency)\n",
    "print(\"Hiệu suất trung bình của nhân viên không làm ca Morning:\", mean_other)"
   ]
  },
  {
   "cell_type": "code",
   "execution_count": null,
   "metadata": {},
   "outputs": [],
   "source": [
    "# Tạo structured array\n",
    "workers = np.array(\n",
    "    list(zip(np_shifts, np_efficiency)),\n",
    "    dtype=[('shift', 'U10'), ('efficiency', 'float')]\n",
    ")\n",
    "print(\"Mảng structured array workers:\")\n",
    "print(workers[:5])\n"
   ]
  },
  {
   "cell_type": "code",
   "execution_count": 14,
   "metadata": {},
   "outputs": [
    {
     "ename": "NameError",
     "evalue": "name 'workers' is not defined",
     "output_type": "error",
     "traceback": [
      "\u001b[1;31m---------------------------------------------------------------------------\u001b[0m",
      "\u001b[1;31mNameError\u001b[0m                                 Traceback (most recent call last)",
      "Cell \u001b[1;32mIn[14], line 2\u001b[0m\n\u001b[0;32m      1\u001b[0m \u001b[38;5;66;03m# Sắp xếp workers theo efficiency\u001b[39;00m\n\u001b[1;32m----> 2\u001b[0m sorted_workers \u001b[38;5;241m=\u001b[39m np\u001b[38;5;241m.\u001b[39msort(\u001b[43mworkers\u001b[49m, order\u001b[38;5;241m=\u001b[39m\u001b[38;5;124m'\u001b[39m\u001b[38;5;124mefficiency\u001b[39m\u001b[38;5;124m'\u001b[39m)\n\u001b[0;32m      3\u001b[0m \u001b[38;5;28mprint\u001b[39m(\u001b[38;5;124m\"\u001b[39m\u001b[38;5;124mMảng workers sau khi sắp xếp theo efficiency:\u001b[39m\u001b[38;5;124m\"\u001b[39m)\n\u001b[0;32m      4\u001b[0m \u001b[38;5;28mprint\u001b[39m(sorted_workers)\n",
      "\u001b[1;31mNameError\u001b[0m: name 'workers' is not defined"
     ]
    }
   ],
   "source": [
    "# Sắp xếp workers theo efficiency\n",
    "sorted_workers = np.sort(workers, order='efficiency')\n",
    "print(\"Mảng workers sau khi sắp xếp theo efficiency:\")\n",
    "print(sorted_workers)\n",
    "\n",
    "# Ca làm việc có hiệu suất cao nhất và thấp nhất\n",
    "highest_efficiency_shift = sorted_workers[-1]['shift']\n",
    "lowest_efficiency_shift = sorted_workers[0]['shift']\n",
    "\n",
    "print(\"Ca làm việc có hiệu suất cao nhất:\", highest_efficiency_shift)\n",
    "print(\"Ca làm việc có hiệu suất thấp nhất:\", lowest_efficiency_shift)"
   ]
  }
 ],
 "metadata": {
  "kernelspec": {
   "display_name": "Python 3",
   "language": "python",
   "name": "python3"
  },
  "language_info": {
   "codemirror_mode": {
    "name": "ipython",
    "version": 3
   },
   "file_extension": ".py",
   "mimetype": "text/x-python",
   "name": "python",
   "nbconvert_exporter": "python",
   "pygments_lexer": "ipython3",
   "version": "3.12.6"
  }
 },
 "nbformat": 4,
 "nbformat_minor": 2
}
