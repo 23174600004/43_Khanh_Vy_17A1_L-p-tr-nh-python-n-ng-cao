{
 "cells": [
  {
   "cell_type": "code",
   "execution_count": 15,
   "metadata": {},
   "outputs": [
    {
     "name": "stdout",
     "output_type": "stream",
     "text": [
      "Dữ liệu NumPy array:\n",
      "[['1' 'Nguyễn Văn Bình' '3.04' '3.39' '6.7']\n",
      " ['2' 'Lê Thị Na' '5.8' '6.41' '6.62']\n",
      " ['3' 'Trần Văn Thành' '2.59' '3.57' '9.16']\n",
      " ['4' 'Phạm Thị Hồng' '3.81' '8.78' '9.24']\n",
      " ['5' 'Bùi Văn An' '8.91' '9.64' '6.39']]\n"
     ]
    }
   ],
   "source": [
    "import numpy as np\n",
    "import csv\n",
    "\n",
    "# Đọc dữ liệu từ file CSV vào list\n",
    "filename = 'diem_hoc_phan.csv'\n",
    "with open(filename, 'r', encoding='utf-8') as file:\n",
    "    reader = csv.reader(file)\n",
    "    header = next(reader)  # Đọc dòng tiêu đề\n",
    "    data = [row for row in reader]  # Lưu dữ liệu từng dòng vào list\n",
    "\n",
    "# Chuyển đổi list thành NumPy array\n",
    "np_data = np.array(data)\n",
    "print(\"Dữ liệu NumPy array:\")\n",
    "print(np_data[:5])  # In 5 dòng đầu để kiểm tra"
   ]
  },
  {
   "cell_type": "code",
   "execution_count": 21,
   "metadata": {},
   "outputs": [
    {
     "name": "stdout",
     "output_type": "stream",
     "text": [
      "Điểm quy đổi sang thang tín chỉ:\n",
      "[['F' 'F' 'C+']\n",
      " ['C' 'C' 'C+']\n",
      " ['F' 'F' 'A']\n",
      " ['F' 'A' 'A']\n",
      " ['A' 'A' 'C']]\n"
     ]
    }
   ],
   "source": [
    "def convert_grade(score):\n",
    "    score = float(score)\n",
    "    if 8.5 <= score <= 10:\n",
    "        return 'A'\n",
    "    elif 8.0 <= score < 8.5:\n",
    "        return 'B+'\n",
    "    elif 7.0 <= score < 8.0:\n",
    "        return 'B'\n",
    "    elif 6.5 <= score < 7.0:\n",
    "        return 'C+'\n",
    "    elif 5.5 <= score < 6.5:\n",
    "        return 'C'\n",
    "    elif 5.0 <= score < 5.5:\n",
    "        return 'D+'\n",
    "    elif 4.0 <= score < 5.0:\n",
    "        return 'D'\n",
    "    else:\n",
    "        return 'F'\n",
    "# Áp dụng chuyển đổi thang điểm cho các cột học phần (HP1, HP2, HP3)\n",
    "grades = np.array([[convert_grade(score) for score in row[2:]] for row in np_data])\n",
    "print(\"Điểm quy đổi sang thang tín chỉ:\")\n",
    "print(grades[:5])  # In 5 dòng đầu\n"
   ]
  },
  {
   "cell_type": "code",
   "execution_count": 22,
   "metadata": {},
   "outputs": [
    {
     "name": "stdout",
     "output_type": "stream",
     "text": [
      "Điểm HP1: [3.04 5.8  2.59 3.81 8.91]\n",
      "Điểm HP2: [3.39 6.41 3.57 8.78 9.64]\n",
      "Điểm HP3: [6.7  6.62 9.16 9.24 6.39]\n"
     ]
    }
   ],
   "source": [
    "# Lấy điểm từng học phần\n",
    "hp1_scores = np_data[:, 2].astype(float)\n",
    "hp2_scores = np_data[:, 3].astype(float)\n",
    "hp3_scores = np_data[:, 4].astype(float)\n",
    "\n",
    "print(\"Điểm HP1:\", hp1_scores[:5])\n",
    "print(\"Điểm HP2:\", hp2_scores[:5])\n",
    "print(\"Điểm HP3:\", hp3_scores[:5])\n"
   ]
  },
  {
   "cell_type": "code",
   "execution_count": 23,
   "metadata": {},
   "outputs": [
    {
     "name": "stdout",
     "output_type": "stream",
     "text": [
      "Phân tích HP1:\n",
      " - Tổng: 154.92999999999998\n",
      " - Trung bình: 5.1643333333333326\n",
      " - Độ lệch chuẩn: 2.4078519934211533\n",
      "Phân tích HP2:\n",
      " - Tổng: 170.27\n",
      " - Trung bình: 5.675666666666667\n",
      " - Độ lệch chuẩn: 2.2494765070023637\n",
      "Phân tích HP3:\n",
      " - Tổng: 188.78\n",
      " - Trung bình: 6.292666666666666\n",
      " - Độ lệch chuẩn: 1.8082292135923723\n"
     ]
    }
   ],
   "source": [
    "\n",
    "def analyze_scores(scores, hp_name):\n",
    "    print(f\"Phân tích {hp_name}:\")\n",
    "    print(\" - Tổng:\", np.sum(scores))\n",
    "    print(\" - Trung bình:\", np.mean(scores))\n",
    "    print(\" - Độ lệch chuẩn:\", np.std(scores))\n",
    "\n",
    "# Phân tích từng học phần\n",
    "analyze_scores(hp1_scores, \"HP1\")\n",
    "analyze_scores(hp2_scores, \"HP2\")\n",
    "analyze_scores(hp3_scores, \"HP3\")"
   ]
  },
  {
   "cell_type": "code",
   "execution_count": 24,
   "metadata": {},
   "outputs": [
    {
     "name": "stdout",
     "output_type": "stream",
     "text": [
      "Phân tích điểm tổng hợp:\n",
      " - A: 15 sinh viên\n",
      " - B: 4 sinh viên\n",
      " - B+: 7 sinh viên\n",
      " - C: 14 sinh viên\n",
      " - C+: 6 sinh viên\n",
      " - D: 10 sinh viên\n",
      " - D+: 6 sinh viên\n",
      " - F: 28 sinh viên\n"
     ]
    }
   ],
   "source": [
    " #Kết hợp điểm các học phần\n",
    "all_grades = grades.flatten()  # Chuyển dữ liệu sang mảng 1 chiều\n",
    "\n",
    "# Đếm số lượng từng loại điểm\n",
    "unique, counts = np.unique(all_grades, return_counts=True)\n",
    "grade_distribution = dict(zip(unique, counts))\n",
    "\n",
    "print(\"Phân tích điểm tổng hợp:\")\n",
    "for grade, count in grade_distribution.items():\n",
    "    print(f\" - {grade}: {count} sinh viên\")"
   ]
  },
  {
   "cell_type": "code",
   "execution_count": null,
   "metadata": {},
   "outputs": [],
   "source": []
  }
 ],
 "metadata": {
  "kernelspec": {
   "display_name": "Python 3",
   "language": "python",
   "name": "python3"
  },
  "language_info": {
   "codemirror_mode": {
    "name": "ipython",
    "version": 3
   },
   "file_extension": ".py",
   "mimetype": "text/x-python",
   "name": "python",
   "nbconvert_exporter": "python",
   "pygments_lexer": "ipython3",
   "version": "3.12.6"
  }
 },
 "nbformat": 4,
 "nbformat_minor": 2
}
