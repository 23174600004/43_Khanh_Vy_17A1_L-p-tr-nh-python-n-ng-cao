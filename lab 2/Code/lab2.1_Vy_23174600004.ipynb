{
 "cells": [
  {
   "cell_type": "code",
   "execution_count": 4,
   "metadata": {},
   "outputs": [
    {
     "name": "stdout",
     "output_type": "stream",
     "text": [
      "Nhiệt độ trong tháng: \n",
      " [18.26 16.01 26.71 17.65 16.19 21.22 13.51 26.2  12.23 29.75 25.63 14.62\n",
      " 10.91 26.46 24.37 24.8  25.61 12.22 17.68 13.02 27.37 22.77 17.15 12.02\n",
      " 16.77 17.04 24.81 23.04 27.83 19.87]\n",
      "Trung bình nhiet do trong thang la: 20.057333333333336\n"
     ]
    }
   ],
   "source": [
    "import numpy as np\n",
    "\n",
    "# Tạo màng mô phỏng dữ liệu nhiệt độ hàng ngày trong một tháng với số thực\n",
    "\n",
    "# Nhiệt độ trong khoảng từ 10.0 đến 30.0 độ C\n",
    "\n",
    "nhiet_do = np.round(np.random.uniform (10.8, 30.0, size=30),2)\n",
    "\n",
    "print(\"Nhiệt độ trong tháng: \\n\", nhiet_do)\n",
    "\n",
    "print('Trung bình nhiet do trong thang la:',np.mean(nhiet_do))\n",
    "\n"
   ]
  },
  {
   "cell_type": "code",
   "execution_count": 5,
   "metadata": {},
   "outputs": [
    {
     "name": "stdout",
     "output_type": "stream",
     "text": [
      "Nhiệt độ ngày cao nhất trong tháng là: 29.75\n",
      "Ngày có nhiệt độ cao nhất là ngày thứ: 10\n",
      "Nhiệt độ ngày thấp nhất trong tháng là: 10.91\n",
      "Ngày có nhiệt độ thấp nhất là: 13\n"
     ]
    }
   ],
   "source": [
    " # Tìm nhiệt độ cao nhất và thấp nhất\n",
    "max_temp = np.max(nhiet_do)\n",
    "\n",
    "min_temp = np.min(nhiet_do)\n",
    "\n",
    "#Xác định ngày có nhiệt độ cao nhất và thấp nhất\n",
    "\n",
    "# Chú ý: Ngày được tính từ 1, không phải 0\n",
    "\n",
    "day_max_temp = np.argmax(nhiet_do) + 1\n",
    "\n",
    "day_min_temp = np.argmin(nhiet_do) + 1\n",
    "\n",
    "print (f'Nhiệt độ ngày cao nhất trong tháng là:',max_temp)\n",
    "print(f'Ngày có nhiệt độ cao nhất là ngày thứ:', day_max_temp)\n",
    "\n",
    "\n",
    "print(f'Nhiệt độ ngày thấp nhất trong tháng là:',min_temp)\n",
    "print (f'Ngày có nhiệt độ thấp nhất là:', day_min_temp)\n",
    "\n",
    "\n"
   ]
  },
  {
   "cell_type": "code",
   "execution_count": 6,
   "metadata": {},
   "outputs": [
    {
     "name": "stdout",
     "output_type": "stream",
     "text": [
      "Chênh lệch nhiệt độ cao nhất là: 11.489999999999998\n",
      "Ngày chênh lệch cao nhất 9\n"
     ]
    }
   ],
   "source": [
    "#Tạo mang chứa nhiệt độ của ngày hôm trước (trừ ngày cuối cùng) \n",
    "ngay_truoc = nhiet_do[1-1]\n",
    " # Tạo mảng chứa nhiệt độ của ngày hôm sau (trừ ngày đầu tiên) của mang nhiet do \n",
    "ngay_sau = nhiet_do [1:]\n",
    "\n",
    "# Tính toán sự chênh lệch nhiệt độ giữa ngày hôm sau và ngày hôm trước\n",
    "\n",
    "chenh_lech = ngay_sau - ngay_truoc\n",
    " # Xác định ngày có sự chênh lệch nhiệt độ lớn nhất\n",
    "\n",
    "dff_max= np.argmax(np.abs(chenh_lech)) + 1 # +1 vì ngày đầu tiên là ngày 1, không\n",
    "\n",
    "max_chenh_lech = chenh_lech[dff_max - 1]\n",
    "print(\"Chênh lệch nhiệt độ cao nhất là:\", max_chenh_lech)\n",
    "print(\"Ngày chênh lệch cao nhất\", dff_max)"
   ]
  },
  {
   "cell_type": "code",
   "execution_count": 7,
   "metadata": {},
   "outputs": [
    {
     "data": {
      "text/plain": [
       "array([ 3,  6,  8, 10, 11, 14, 15, 16, 17, 21, 22, 27, 28, 29])"
      ]
     },
     "execution_count": 7,
     "metadata": {},
     "output_type": "execute_result"
    }
   ],
   "source": [
    "condition=nhiet_do >20\n",
    "indices=np.where(condition)\n",
    "day_indices=indices[0]\n",
    "days_above_20_separayted=day_indices+1\n",
    "days_above_20_separayted"
   ]
  }
 ],
 "metadata": {
  "kernelspec": {
   "display_name": "Python 3",
   "language": "python",
   "name": "python3"
  },
  "language_info": {
   "codemirror_mode": {
    "name": "ipython",
    "version": 3
   },
   "file_extension": ".py",
   "mimetype": "text/x-python",
   "name": "python",
   "nbconvert_exporter": "python",
   "pygments_lexer": "ipython3",
   "version": "3.12.6"
  }
 },
 "nbformat": 4,
 "nbformat_minor": 2
}
