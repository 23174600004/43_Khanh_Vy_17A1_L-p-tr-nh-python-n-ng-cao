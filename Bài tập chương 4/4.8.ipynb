{
 "cells": [
  {
   "cell_type": "code",
   "execution_count": 1,
   "metadata": {},
   "outputs": [
    {
     "name": "stdout",
     "output_type": "stream",
     "text": [
      "0      Decile 3\n",
      "1      Decile 1\n",
      "2      Decile 6\n",
      "3     Decile 10\n",
      "4      Decile 5\n",
      "5      Decile 6\n",
      "6      Decile 4\n",
      "7      Decile 1\n",
      "8      Decile 2\n",
      "9      Decile 8\n",
      "10     Decile 8\n",
      "11     Decile 7\n",
      "12     Decile 5\n",
      "13     Decile 3\n",
      "14     Decile 9\n",
      "15     Decile 9\n",
      "16     Decile 7\n",
      "17     Decile 4\n",
      "18     Decile 2\n",
      "19    Decile 10\n",
      "dtype: category\n",
      "Categories (10, object): ['Decile 1' < 'Decile 2' < 'Decile 3' < 'Decile 4' ... 'Decile 7' < 'Decile 8' < 'Decile 9' < 'Decile 10']\n"
     ]
    }
   ],
   "source": [
    "import pandas as pd\n",
    "import numpy as np\n",
    "\n",
    "# Dữ liệu đầu vào\n",
    "ser = pd.Series(np.random.random(20))\n",
    "\n",
    "# Chia chuỗi dữ liệu thành 10 phân vị bằng nhau\n",
    "deciles = pd.qcut(ser, 10, labels=[f'Decile {i+1}' for i in range(10)])\n",
    "\n",
    "# Thay thế các giá trị trong ser bằng tên phân vị tương ứng\n",
    "ser_with_deciles = deciles\n",
    "\n",
    "print(ser_with_deciles)\n"
   ]
  }
 ],
 "metadata": {
  "kernelspec": {
   "display_name": "Python 3",
   "language": "python",
   "name": "python3"
  },
  "language_info": {
   "codemirror_mode": {
    "name": "ipython",
    "version": 3
   },
   "file_extension": ".py",
   "mimetype": "text/x-python",
   "name": "python",
   "nbconvert_exporter": "python",
   "pygments_lexer": "ipython3",
   "version": "3.12.6"
  }
 },
 "nbformat": 4,
 "nbformat_minor": 2
}
