{
 "cells": [
  {
   "cell_type": "code",
   "execution_count": 1,
   "metadata": {},
   "outputs": [
    {
     "name": "stdout",
     "output_type": "stream",
     "text": [
      "Series chuỗi thời gian:\n",
      "0   2010-01-01\n",
      "0          NaT\n",
      "1          NaT\n",
      "1          NaT\n",
      "1          NaT\n",
      "1          NaT\n",
      "dtype: datetime64[ns]\n"
     ]
    }
   ],
   "source": [
    "import pandas as pd\n",
    "\n",
    "# Dữ liệu đầu vào\n",
    "ser = pd.Series(['01 Jan 2010, 02-02-2011', '20120303,2013/04/04, 2014-05-05, 2015-06-06T12:20'])\n",
    "\n",
    "# Chuyển đổi chuỗi ngày thành chuỗi thời gian\n",
    "ser_timeseries = pd.to_datetime(ser.str.split(',').explode(), errors='coerce')\n",
    "\n",
    "print(\"Series chuỗi thời gian:\")\n",
    "print(ser_timeseries)\n"
   ]
  }
 ],
 "metadata": {
  "kernelspec": {
   "display_name": "Python 3",
   "language": "python",
   "name": "python3"
  },
  "language_info": {
   "codemirror_mode": {
    "name": "ipython",
    "version": 3
   },
   "file_extension": ".py",
   "mimetype": "text/x-python",
   "name": "python",
   "nbconvert_exporter": "python",
   "pygments_lexer": "ipython3",
   "version": "3.12.6"
  }
 },
 "nbformat": 4,
 "nbformat_minor": 2
}
