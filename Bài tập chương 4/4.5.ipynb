{
 "cells": [
  {
   "cell_type": "code",
   "execution_count": 1,
   "metadata": {},
   "outputs": [
    {
     "name": "stdout",
     "output_type": "stream",
     "text": [
      "Giá trị tối thiểu của ser: 2.7502481425517615\n",
      "Phần trăm thứ 25 của ser: 7.480495567875712\n",
      "Trung vị của ser: 9.808634078806017\n",
      "Phần trăm thứ 75 của ser: 12.168525326560362\n",
      "Giá trị tối đa của ser: 17.19045407472737\n"
     ]
    }
   ],
   "source": [
    "import pandas as pd\n",
    "import numpy as np\n",
    "\n",
    "# Tạo Series với 25 giá trị ngẫu nhiên từ phân phối chuẩn có trung bình 10 và độ lệch chuẩn 5\n",
    "ser = pd.Series(np.random.normal(10, 5, 25))\n",
    "\n",
    "# 1. Giá trị tối thiểu\n",
    "min_value = ser.min()\n",
    "print(\"Giá trị tối thiểu của ser:\", min_value)\n",
    "\n",
    "# 2. Phần trăm thứ 25 (25th percentile)\n",
    "percentile_25 = ser.quantile(0.25)\n",
    "print(\"Phần trăm thứ 25 của ser:\", percentile_25)\n",
    "\n",
    "# 3. Trung vị (median)\n",
    "median_value = ser.median()\n",
    "print(\"Trung vị của ser:\", median_value)\n",
    "\n",
    "# 4. Phần trăm thứ 75 (75th percentile)\n",
    "percentile_75 = ser.quantile(0.75)\n",
    "print(\"Phần trăm thứ 75 của ser:\", percentile_75)\n",
    "\n",
    "# 5. Giá trị tối đa\n",
    "max_value = ser.max()\n",
    "print(\"Giá trị tối đa của ser:\", max_value)\n"
   ]
  }
 ],
 "metadata": {
  "kernelspec": {
   "display_name": "Python 3",
   "language": "python",
   "name": "python3"
  },
  "language_info": {
   "codemirror_mode": {
    "name": "ipython",
    "version": 3
   },
   "file_extension": ".py",
   "mimetype": "text/x-python",
   "name": "python",
   "nbconvert_exporter": "python",
   "pygments_lexer": "ipython3",
   "version": "3.12.6"
  }
 },
 "nbformat": 4,
 "nbformat_minor": 2
}
