{
 "cells": [
  {
   "cell_type": "code",
   "execution_count": 1,
   "metadata": {},
   "outputs": [
    {
     "name": "stdout",
     "output_type": "stream",
     "text": [
      "   0  1  2  3  4\n",
      "0  2  6  5  9  2\n",
      "1  5  9  5  4  4\n",
      "2  4  2  2  4  3\n",
      "3  6  9  1  2  9\n",
      "4  5  8  1  7  4\n",
      "5  8  3  8  7  3\n",
      "6  9  6  2  2  9\n"
     ]
    }
   ],
   "source": [
    "\n",
    "import pandas as pd\n",
    "import numpy as np\n",
    "ser = pd.Series(np.random.randint(1, 10, 35))\n",
    "df = pd.DataFrame(ser.values.reshape(7, 5))\n",
    "\n",
    "print(df)"
   ]
  },
  {
   "cell_type": "code",
   "execution_count": 2,
   "metadata": {},
   "outputs": [
    {
     "name": "stdout",
     "output_type": "stream",
     "text": [
      "   0  1  2  3  4\n",
      "0  2  8  1  6  8\n",
      "1  1  7  5  7  7\n",
      "2  2  7  6  9  8\n",
      "3  5  7  1  5  3\n",
      "4  9  9  2  4  8\n",
      "5  3  4  3  7  8\n",
      "6  6  9  9  4  8\n"
     ]
    }
   ],
   "source": [
    "import pandas as pd\n",
    "import numpy as np\n",
    "\n",
    "# Dữ liệu đầu vào\n",
    "ser = pd.Series(np.random.randint(1, 10, 35))\n",
    "\n",
    "# Định hình lại ser thành DataFrame với 7 hàng và 5 cột\n",
    "df = pd.DataFrame(ser.values.reshape(7, 5))\n",
    "\n",
    "print(df)"
   ]
  }
 ],
 "metadata": {
  "kernelspec": {
   "display_name": "Python 3",
   "language": "python",
   "name": "python3"
  },
  "language_info": {
   "codemirror_mode": {
    "name": "ipython",
    "version": 3
   },
   "file_extension": ".py",
   "mimetype": "text/x-python",
   "name": "python",
   "nbconvert_exporter": "python",
   "pygments_lexer": "ipython3",
   "version": "3.12.6"
  }
 },
 "nbformat": 4,
 "nbformat_minor": 2
}
