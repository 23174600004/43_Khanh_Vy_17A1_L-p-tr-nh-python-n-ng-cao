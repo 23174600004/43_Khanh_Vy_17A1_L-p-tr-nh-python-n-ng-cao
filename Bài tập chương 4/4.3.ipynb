{
 "cells": [
  {
   "cell_type": "code",
   "execution_count": 4,
   "metadata": {},
   "outputs": [
    {
     "name": "stdout",
     "output_type": "stream",
     "text": [
      "   Column1  Column2\n",
      "0        a      0.0\n",
      "1        b      1.0\n",
      "2        c      2.0\n",
      "3        e      3.0\n",
      "4        d      4.0\n",
      "5        f      5.0\n",
      "6        g      6.0\n",
      "7        h      7.0\n",
      "8        i      8.0\n",
      "9        j      9.0\n",
      "10       k     10.0\n",
      "11       l     11.0\n",
      "12       m     12.0\n",
      "13       n     13.0\n",
      "14       o     14.0\n",
      "15       p     15.0\n",
      "16       q     16.0\n",
      "17       r     17.0\n",
      "18       s     18.0\n",
      "19       t     19.0\n",
      "20       u     20.0\n",
      "21       v     21.0\n",
      "22       w     22.0\n",
      "23       x     23.0\n",
      "24       y     24.0\n",
      "25       z     25.0\n",
      "26       *      NaN\n"
     ]
    }
   ],
   "source": [
    "import numpy as np\n",
    "import pandas as pd  # Đảm bảo import pandas\n",
    " #Dữ liệu đầu vào\n",
    "ser1 = pd.Series(list('abcedfghijklmnopqrstuvwxyz*'))\n",
    "ser2 = pd.Series(np.arange(26))\n",
    "\n",
    "# Kết nối ser1 và ser2 thành DataFrame\n",
    "df_combined = pd.DataFrame({'Column1': ser1, 'Column2': ser2})\n",
    "print(df_combined)"
   ]
  }
 ],
 "metadata": {
  "kernelspec": {
   "display_name": "Python 3",
   "language": "python",
   "name": "python3"
  },
  "language_info": {
   "codemirror_mode": {
    "name": "ipython",
    "version": 3
   },
   "file_extension": ".py",
   "mimetype": "text/x-python",
   "name": "python",
   "nbconvert_exporter": "python",
   "pygments_lexer": "ipython3",
   "version": "3.12.6"
  }
 },
 "nbformat": 4,
 "nbformat_minor": 2
}
