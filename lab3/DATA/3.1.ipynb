{
 "cells": [
  {
   "cell_type": "code",
   "execution_count": 3,
   "metadata": {},
   "outputs": [
    {
     "name": "stdout",
     "output_type": "stream",
     "text": [
      "Đọc file stocks1.csv...\n",
      "\n",
      "5 dòng đầu của stocks1:\n",
      "       date symbol     open     high      low    close   volume\n",
      "0  01-03-19   AMZN  1655.13  1674.26  1651.00  1671.73  4974877\n",
      "1  04-03-19   AMZN  1685.00  1709.43  1674.36  1696.17  6167358\n",
      "2  05-03-19   AMZN  1702.95  1707.80  1689.01  1692.43  3681522\n",
      "3  06-03-19   AMZN  1695.97      NaN      NaN  1668.95  3996001\n",
      "4  07-03-19   AMZN  1667.37  1669.75  1620.51  1625.95  4957017\n",
      "\n",
      "5 dòng cuối của stocks1:\n",
      "        date symbol     open     high      low    close   volume\n",
      "10  01-03-19   GOOG  1124.90  1142.97  1124.75  1140.99  1450316\n",
      "11  04-03-19   GOOG  1146.99  1158.28  1130.69  1147.80  1446047\n",
      "12  05-03-19   GOOG  1150.06      NaN      NaN  1162.03  1443174\n",
      "13  06-03-19   GOOG  1162.49  1167.57  1155.49  1157.86  1099289\n",
      "14  07-03-19   GOOG  1155.72  1156.76  1134.91  1143.30  1166559\n",
      "\n",
      "Kiểu dữ liệu (dtype) của các cột trong stocks1:\n",
      "date       object\n",
      "symbol     object\n",
      "open      float64\n",
      "high      float64\n",
      "low       float64\n",
      "close     float64\n",
      "volume      int64\n",
      "dtype: object\n",
      "\n",
      "Thông tin của stocks1:\n",
      "<class 'pandas.core.frame.DataFrame'>\n",
      "RangeIndex: 15 entries, 0 to 14\n",
      "Data columns (total 7 columns):\n",
      " #   Column  Non-Null Count  Dtype  \n",
      "---  ------  --------------  -----  \n",
      " 0   date    15 non-null     object \n",
      " 1   symbol  15 non-null     object \n",
      " 2   open    15 non-null     float64\n",
      " 3   high    13 non-null     float64\n",
      " 4   low     13 non-null     float64\n",
      " 5   close   15 non-null     float64\n",
      " 6   volume  15 non-null     int64  \n",
      "dtypes: float64(4), int64(1), object(2)\n",
      "memory usage: 972.0+ bytes\n",
      "None\n"
     ]
    }
   ],
   "source": [
    "import pandas as pd\n",
    "\n",
    "# 1. a) Đọc file stocks1.csv\n",
    "print(\"Đọc file stocks1.csv...\")\n",
    "stocks1 = pd.read_csv(\"stocks1.csv\")\n",
    "\n",
    "# Hiển thị 5 dòng đầu và cuối\n",
    "print(\"\\n5 dòng đầu của stocks1:\")\n",
    "print(stocks1.head())\n",
    "\n",
    "print(\"\\n5 dòng cuối của stocks1:\")\n",
    "print(stocks1.tail())\n",
    "\n",
    "# Kiểu dữ liệu của các cột\n",
    "print(\"\\nKiểu dữ liệu (dtype) của các cột trong stocks1:\")\n",
    "print(stocks1.dtypes)\n",
    "\n",
    "# Thông tin của stocks1\n",
    "print(\"\\nThông tin của stocks1:\")\n",
    "print(stocks1.info())\n"
   ]
  }
 ],
 "metadata": {
  "kernelspec": {
   "display_name": "Python 3",
   "language": "python",
   "name": "python3"
  },
  "language_info": {
   "codemirror_mode": {
    "name": "ipython",
    "version": 3
   },
   "file_extension": ".py",
   "mimetype": "text/x-python",
   "name": "python",
   "nbconvert_exporter": "python",
   "pygments_lexer": "ipython3",
   "version": "3.12.6"
  }
 },
 "nbformat": 4,
 "nbformat_minor": 2
}
