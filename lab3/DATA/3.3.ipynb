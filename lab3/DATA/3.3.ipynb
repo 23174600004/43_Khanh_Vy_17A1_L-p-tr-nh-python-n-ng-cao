{
 "cells": [
  {
   "cell_type": "code",
   "execution_count": 1,
   "metadata": {},
   "outputs": [
    {
     "name": "stdout",
     "output_type": "stream",
     "text": [
      "5 dòng đầu tiên của giá trung bình mỗi ngày:\n",
      "             open       high       low    close\n",
      "date                                           \n",
      "01-03-19  684.770  692.52840  680.4460  688.952\n",
      "04-03-19  693.940  702.39200  685.1260  694.510\n",
      "05-03-19  695.664  584.92000  575.0500  695.558\n",
      "06-03-19  696.502  449.53395  443.7725  690.016\n",
      "07-03-19  689.460  691.47800  673.8600  677.494\n"
     ]
    }
   ],
   "source": [
    "import pandas as pd\n",
    "\n",
    "# 1. Đọc file stocks1.csv và stocks2.csv\n",
    "stocks1 = pd.read_csv(\"stocks1.csv\")\n",
    "stocks2 = pd.read_csv(\"stocks2.csv\")\n",
    "\n",
    "# 2. Gộp stocks1 và stocks2 thành DataFrame mới tên là stocks\n",
    "stocks = pd.concat([stocks1, stocks2], ignore_index=True)\n",
    "\n",
    "# 3. Tính giá trung bình (open, high, low, close) cho mỗi ngày\n",
    "average_prices = stocks.groupby(\"date\")[[\"open\", \"high\", \"low\", \"close\"]].mean()\n",
    "\n",
    "# 4. Hiển thị 5 dòng đầu tiên của kết quả\n",
    "print(\"5 dòng đầu tiên của giá trung bình mỗi ngày:\")\n",
    "print(average_prices.head())"
   ]
  },
  {
   "cell_type": "code",
   "execution_count": 9,
   "metadata": {},
   "outputs": [
    {
     "name": "stdout",
     "output_type": "stream",
     "text": [
      "5 dòng đầu tiên của companies:\n",
      "   name  employees headquarters_city headquarters_state\n",
      "0  AMZN     613300           Seattle                 WA\n",
      "1  GOOG      98771     Mountain View                 CA\n",
      "2  AAPL     132000         Cupertino                 CA\n",
      "3    FB      48268        Menlo Park                 CA\n",
      "4  TSLA      48016         Palo Alto                 CA\n",
      "\n",
      "Giá đóng cửa trung bình cho 5 công ty đầu tiên:\n",
      "symbol\n",
      "AAPL     174.674\n",
      "AMZN    1671.046\n",
      "FB       168.510\n",
      "GOOG    1150.396\n",
      "TSLA     281.904\n",
      "Name: close, dtype: float64\n"
     ]
    }
   ],
   "source": [
    "# 3.4 import pandas as pd\n",
    "\n",
    "# 1. Đọc file companies.csv vào DataFrame companies\n",
    "companies = pd.read_csv(\"companies.csv\")\n",
    "\n",
    "# Hiển thị 5 dòng đầu tiên của companies\n",
    "print(\"5 dòng đầu tiên của companies:\")\n",
    "print(companies.head())\n",
    "\n",
    "# 2. Kết hợp stocks và companies dựa trên cột 'symbol'\n",
    "# stocks đã tạo từ bài 3\n",
    "stocks_companies = pd.merge(stocks, companies, left_on=\"symbol\", right_on=\"name\", how=\"inner\")\n",
    "\n",
    "# 3. Tính giá đóng cửa (close) trung bình cho mỗi công ty\n",
    "average_close = stocks_companies.groupby(\"symbol\")[\"close\"].mean()\n",
    "\n",
    "# 4. Hiển thị kết quả cho 5 công ty đầu tiên\n",
    "print(\"\\nGiá đóng cửa trung bình cho 5 công ty đầu tiên:\")\n",
    "print(average_close.head())\n"
   ]
  },
  {
   "cell_type": "code",
   "execution_count": 13,
   "metadata": {},
   "outputs": [
    {
     "name": "stdout",
     "output_type": "stream",
     "text": [
      "5 dòng đầu tiên của companies:\n",
      "   name  employees headquarters_city headquarters_state\n",
      "0  AMZN     613300           Seattle                 WA\n",
      "1  GOOG      98771     Mountain View                 CA\n",
      "2  AAPL     132000         Cupertino                 CA\n",
      "3    FB      48268        Menlo Park                 CA\n",
      "4  TSLA      48016         Palo Alto                 CA\n",
      "\n",
      "Giá đóng cửa trung bình cho 5 công ty đầu tiên:\n",
      "symbol\n",
      "AAPL    156.0\n",
      "Name: close, dtype: float64\n"
     ]
    }
   ],
   "source": [
    "# Bài 3.4 \n",
    "import pandas as pd\n",
    "\n",
    "# 1. Đọc file companies.csv vào DataFrame companies\n",
    "companies = pd.read_csv(\"companies.csv\")\n",
    "\n",
    "# Hiển thị 5 dòng đầu tiên của companies\n",
    "print(\"5 dòng đầu tiên của companies:\")\n",
    "print(companies.head())\n",
    "\n",
    "# 2. Kết hợp stocks và companies dựa trên cột 'symbol'\n",
    "# stocks đã tạo từ bài 3\n",
    "stocks_companies = pd.merge(stocks, companies, left_on=\"symbol\", right_on=\"name\", how=\"inner\")\n",
    "\n",
    "# 3. Tính giá đóng cửa (close) trung bình cho mỗi công ty\n",
    "average_close = stocks_companies.groupby(\"symbol\")[\"close\"].mean()\n",
    "\n",
    "# 4. Hiển thị kết quả cho 5 công ty đầu tiên\n",
    "print(\"\\nGiá đóng cửa trung bình cho 5 công ty đầu tiên:\")\n",
    "print(average_close.head())"
   ]
  }
 ],
 "metadata": {
  "kernelspec": {
   "display_name": "Python 3",
   "language": "python",
   "name": "python3"
  },
  "language_info": {
   "codemirror_mode": {
    "name": "ipython",
    "version": 3
   },
   "file_extension": ".py",
   "mimetype": "text/x-python",
   "name": "python",
   "nbconvert_exporter": "python",
   "pygments_lexer": "ipython3",
   "version": "3.12.6"
  }
 },
 "nbformat": 4,
 "nbformat_minor": 2
}
