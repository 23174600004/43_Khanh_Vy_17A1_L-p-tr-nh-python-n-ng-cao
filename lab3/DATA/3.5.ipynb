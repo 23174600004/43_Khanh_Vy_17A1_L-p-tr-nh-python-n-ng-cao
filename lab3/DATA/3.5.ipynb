{
 "cells": [
  {
   "cell_type": "code",
   "execution_count": 7,
   "metadata": {},
   "outputs": [
    {
     "name": "stdout",
     "output_type": "stream",
     "text": [
      "                     open    high     low   close     volume\n",
      "date       symbol                                           \n",
      "2024-12-20 AAPL     150.0   155.0   148.0   154.0  1000000.0\n",
      "           GOOGL   2800.0  2850.0  2780.0  2835.0  2000000.0\n",
      "2024-12-21 AAPL     155.0   160.0   153.0   158.0  1200000.0\n",
      "           GOOGL   2850.0  2900.0  2830.0  2875.0  2500000.0\n"
     ]
    }
   ],
   "source": [
    "import pandas as pd\n",
    "\n",
    "# Tạo DataFrame mẫu (nếu bạn đã có DataFrame `stocks`, bỏ qua phần này)\n",
    "data = {\n",
    "    \"date\": [\"2024-12-20\", \"2024-12-20\", \"2024-12-21\", \"2024-12-21\"],\n",
    "    \"symbol\": [\"AAPL\", \"GOOGL\", \"AAPL\", \"GOOGL\"],\n",
    "    \"open\": [150, 2800, 155, 2850],\n",
    "    \"high\": [155, 2850, 160, 2900],\n",
    "    \"low\": [148, 2780, 153, 2830],\n",
    "    \"close\": [154, 2835, 158, 2875],\n",
    "    \"volume\": [1000000, 2000000, 1200000, 2500000],\n",
    "}\n",
    "stocks = pd.DataFrame(data)\n",
    "\n",
    "# 1. Tạo MultiIndex\n",
    "stocks.set_index([\"date\", \"symbol\"], inplace=True)\n",
    "\n",
    "# 2. Tính trung bình theo ngày và mã chứng khoán\n",
    "grouped = stocks.groupby([\"date\", \"symbol\"]).mean()\n",
    "\n",
    "# 3. Sắp xếp theo ngày và mã chứng khoán\n",
    "sorted_data = grouped.sort_index()\n",
    "\n",
    "# 4. Hiển thị kết quả cho 5 ngày đầu tiên\n",
    "print(sorted_data.head())"
   ]
  }
 ],
 "metadata": {
  "kernelspec": {
   "display_name": "Python 3",
   "language": "python",
   "name": "python3"
  },
  "language_info": {
   "codemirror_mode": {
    "name": "ipython",
    "version": 3
   },
   "file_extension": ".py",
   "mimetype": "text/x-python",
   "name": "python",
   "nbconvert_exporter": "python",
   "pygments_lexer": "ipython3",
   "version": "3.12.6"
  }
 },
 "nbformat": 4,
 "nbformat_minor": 2
}
