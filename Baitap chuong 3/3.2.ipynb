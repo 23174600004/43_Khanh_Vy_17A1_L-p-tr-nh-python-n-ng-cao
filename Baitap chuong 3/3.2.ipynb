{
 "cells": [
  {
   "cell_type": "code",
   "execution_count": 1,
   "metadata": {},
   "outputs": [
    {
     "name": "stdout",
     "output_type": "stream",
     "text": [
      "arr_c (các phần tử chung của arr_a và arr_b): [2 4]\n"
     ]
    }
   ],
   "source": [
    "import numpy as np\n",
    "\n",
    "# Khởi tạo arr_a và arr_b\n",
    "arr_a = np.array([1, 2, 3, 2, 3, 4, 3, 4, 5, 6])\n",
    "arr_b = np.array([7, 2, 10, 2, 7, 4, 9, 4, 9, 8])\n",
    "\n",
    "# Câu 1: Tạo array arr_c chỉ lấy duy nhất các phần tử xuất hiện ở cả arr_a và arr_b\n",
    "arr_c = np.intersect1d(arr_a, arr_b)\n",
    "print(\"arr_c (các phần tử chung của arr_a và arr_b):\", arr_c)"
   ]
  },
  {
   "cell_type": "code",
   "execution_count": 2,
   "metadata": {},
   "outputs": [
    {
     "ename": "NameError",
     "evalue": "name 'arr' is not defined",
     "output_type": "error",
     "traceback": [
      "\u001b[1;31m---------------------------------------------------------------------------\u001b[0m",
      "\u001b[1;31mNameError\u001b[0m                                 Traceback (most recent call last)",
      "Cell \u001b[1;32mIn[2], line 2\u001b[0m\n\u001b[0;32m      1\u001b[0m \u001b[38;5;66;03m# Câu 2: Tạo arr_old (phần tử lẻ) và arr_even (phần tử chẵn)\u001b[39;00m\n\u001b[1;32m----> 2\u001b[0m arr_odd \u001b[38;5;241m=\u001b[39m \u001b[43marr\u001b[49m[arr \u001b[38;5;241m%\u001b[39m \u001b[38;5;241m2\u001b[39m \u001b[38;5;241m!=\u001b[39m \u001b[38;5;241m0\u001b[39m]  \u001b[38;5;66;03m# Các phần tử lẻ\u001b[39;00m\n\u001b[0;32m      3\u001b[0m arr_even \u001b[38;5;241m=\u001b[39m arr[arr \u001b[38;5;241m%\u001b[39m \u001b[38;5;241m2\u001b[39m \u001b[38;5;241m==\u001b[39m \u001b[38;5;241m0\u001b[39m]  \u001b[38;5;66;03m# Các phần tử chẵn\u001b[39;00m\n\u001b[0;32m      4\u001b[0m \u001b[38;5;28mprint\u001b[39m(\u001b[38;5;124m\"\u001b[39m\u001b[38;5;124marr_odd:\u001b[39m\u001b[38;5;124m\"\u001b[39m, arr_odd)\n",
      "\u001b[1;31mNameError\u001b[0m: name 'arr' is not defined"
     ]
    }
   ],
   "source": [
    "# Câu 2: Tạo arr_old (phần tử lẻ) và arr_even (phần tử chẵn)\n",
    "arr_odd = arr[arr % 2 != 0]  # Các phần tử lẻ\n",
    "arr_even = arr[arr % 2 == 0]  # Các phần tử chẵn\n",
    "print(\"arr_odd:\", arr_odd)\n",
    "print(\"arr_even:\", arr_even)"
   ]
  },
  {
   "cell_type": "code",
   "execution_count": 3,
   "metadata": {},
   "outputs": [
    {
     "ename": "NameError",
     "evalue": "name 'arr' is not defined",
     "output_type": "error",
     "traceback": [
      "\u001b[1;31m---------------------------------------------------------------------------\u001b[0m",
      "\u001b[1;31mNameError\u001b[0m                                 Traceback (most recent call last)",
      "Cell \u001b[1;32mIn[3], line 2\u001b[0m\n\u001b[0;32m      1\u001b[0m \u001b[38;5;66;03m# Câu 3: Tạo arr_update_1, phần tử chẵn giữ nguyên, phần tử lẻ thay bằng 100\u001b[39;00m\n\u001b[1;32m----> 2\u001b[0m arr_update_1 \u001b[38;5;241m=\u001b[39m np\u001b[38;5;241m.\u001b[39mwhere(\u001b[43marr\u001b[49m \u001b[38;5;241m%\u001b[39m \u001b[38;5;241m2\u001b[39m \u001b[38;5;241m==\u001b[39m \u001b[38;5;241m0\u001b[39m, arr, \u001b[38;5;241m100\u001b[39m)\n\u001b[0;32m      3\u001b[0m \u001b[38;5;28mprint\u001b[39m(\u001b[38;5;124m\"\u001b[39m\u001b[38;5;124marr_update_1:\u001b[39m\u001b[38;5;124m\"\u001b[39m, arr_update_1)\n",
      "\u001b[1;31mNameError\u001b[0m: name 'arr' is not defined"
     ]
    }
   ],
   "source": [
    "# Câu 3: Tạo arr_update_1, phần tử chẵn giữ nguyên, phần tử lẻ thay bằng 100\n",
    "arr_update_1 = np.where(arr % 2 == 0, arr, 100)\n",
    "print(\"arr_update_1:\", arr_update_1)"
   ]
  }
 ],
 "metadata": {
  "kernelspec": {
   "display_name": "Python 3",
   "language": "python",
   "name": "python3"
  },
  "language_info": {
   "codemirror_mode": {
    "name": "ipython",
    "version": 3
   },
   "file_extension": ".py",
   "mimetype": "text/x-python",
   "name": "python",
   "nbconvert_exporter": "python",
   "pygments_lexer": "ipython3",
   "version": "3.12.6"
  }
 },
 "nbformat": 4,
 "nbformat_minor": 2
}
