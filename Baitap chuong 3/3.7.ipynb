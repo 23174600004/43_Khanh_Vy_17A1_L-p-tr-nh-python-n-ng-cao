{
 "cells": [
  {
   "cell_type": "code",
   "execution_count": 6,
   "metadata": {},
   "outputs": [
    {
     "name": "stdout",
     "output_type": "stream",
     "text": [
      "Mối tương quan giữa chiều cao và cân nặng: tương quan thuận\n"
     ]
    }
   ],
   "source": [
    "# Câu 6: Nhận xét về mối tương quan giữa chiều cao và cân nặng\n",
    "correlation = np.corrcoef(np_baseball[:, 0], np_baseball[:, 1])[0, 1]\n",
    "if correlation > 0:\n",
    "    correlation_type = \"tương quan thuận\"\n",
    "elif correlation < 0:\n",
    "    correlation_type = \"tương quan nghịch\"\n",
    "else:\n",
    "    correlation_type = \"không có tương quan\"\n",
    "\n",
    "print(\"Mối tương quan giữa chiều cao và cân nặng:\", correlation_type)"
   ]
  },
  {
   "cell_type": "code",
   "execution_count": 5,
   "metadata": {},
   "outputs": [
    {
     "name": "stdout",
     "output_type": "stream",
     "text": [
      "Chiều cao trung bình: 70.0\n",
      "Cân nặng trung bình: 180.0\n"
     ]
    }
   ],
   "source": [
    "# Câu 5: Tính chiều cao trung bình và cân nặng trung bình\n",
    "avg_height = np.mean(np_baseball[:, 0])  # Cột 1 là chiều cao\n",
    "avg_weight = np.mean(np_baseball[:, 1])  # Cột 2 là cân nặng\n",
    "print(\"Chiều cao trung bình:\", avg_height)\n",
    "print(\"Cân nặng trung bình:\", avg_weight)"
   ]
  },
  {
   "cell_type": "code",
   "execution_count": 4,
   "metadata": {},
   "outputs": [
    {
     "name": "stdout",
     "output_type": "stream",
     "text": [
      "Mảng không đủ dòng để truy cập vận động viên thứ 124.\n"
     ]
    }
   ],
   "source": [
    "# Câu 4: Chiều cao của vận động viên thứ 124\n",
    "if np_baseball.shape[0] >= 124:  # Kiểm tra xem mảng có ít nhất 124 dòng không\n",
    "    height_124 = np_baseball[123, 0]  # Vận động viên thứ 124 có chỉ số là 123\n",
    "    print(\"Chiều cao của vận động viên thứ 124:\", height_124)\n",
    "else:\n",
    "    print(\"Mảng không đủ dòng để truy cập vận động viên thứ 124.\")"
   ]
  },
  {
   "cell_type": "code",
   "execution_count": 3,
   "metadata": {},
   "outputs": [
    {
     "name": "stdout",
     "output_type": "stream",
     "text": [
      "Cột cân nặng: [180. 190. 170.]\n"
     ]
    }
   ],
   "source": [
    "\n",
    "\n",
    "# Câu 3: Tạo numpy array np_weight từ cột 2\n",
    "np_weight = np_baseball[:, 1]  # Cột 2 có chỉ số là 1\n",
    "print(\"Cột cân nặng:\", np_weight)\n",
    "\n"
   ]
  },
  {
   "cell_type": "code",
   "execution_count": 2,
   "metadata": {},
   "outputs": [
    {
     "name": "stdout",
     "output_type": "stream",
     "text": [
      "Mảng không đủ dòng để truy cập dòng thứ 50.\n"
     ]
    }
   ],
   "source": [
    "# Câu 2: In các giá trị của dòng thứ 50\n",
    "if np_baseball.shape[0] >= 50:  # Kiểm tra xem mảng có ít nhất 50 dòng không\n",
    "    print(\"Giá trị của dòng thứ 50 trong np_baseball:\", np_baseball[49])  # Dòng 50 có chỉ số là 49\n",
    "else:\n",
    "    print(\"Mảng không đủ dòng để truy cập dòng thứ 50.\")\n"
   ]
  },
  {
   "cell_type": "code",
   "execution_count": 1,
   "metadata": {},
   "outputs": [
    {
     "name": "stdout",
     "output_type": "stream",
     "text": [
      "Kiểu dữ liệu của np_baseball: float64\n",
      "Kích thước của np_baseball: (3, 2)\n"
     ]
    }
   ],
   "source": [
    "import numpy as np\n",
    "\n",
    "# Đọc dữ liệu từ tệp baseball_2D.txt và lưu vào list baseball\n",
    "with open('baseball_2D.txt', 'r') as file:\n",
    "    lines = file.readlines()\n",
    "    baseball = [list(map(float, line.strip().split())) for line in lines[1:]]  # Bỏ qua dòng tiêu đề\n",
    "\n",
    "# Câu 1: Tạo 2D numpy array từ baseball\n",
    "np_baseball = np.array(baseball)\n",
    "print(\"Kiểu dữ liệu của np_baseball:\", np_baseball.dtype)\n",
    "print(\"Kích thước của np_baseball:\", np_baseball.shape)\n"
   ]
  }
 ],
 "metadata": {
  "kernelspec": {
   "display_name": "Python 3",
   "language": "python",
   "name": "python3"
  },
  "language_info": {
   "codemirror_mode": {
    "name": "ipython",
    "version": 3
   },
   "file_extension": ".py",
   "mimetype": "text/x-python",
   "name": "python",
   "nbconvert_exporter": "python",
   "pygments_lexer": "ipython3",
   "version": "3.12.6"
  }
 },
 "nbformat": 4,
 "nbformat_minor": 2
}
