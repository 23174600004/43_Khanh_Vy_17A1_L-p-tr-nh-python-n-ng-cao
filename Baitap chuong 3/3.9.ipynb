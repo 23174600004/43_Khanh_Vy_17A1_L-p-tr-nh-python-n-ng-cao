{
 "cells": [
  {
   "cell_type": "code",
   "execution_count": 4,
   "metadata": {},
   "outputs": [
    {
     "name": "stdout",
     "output_type": "stream",
     "text": [
      "Kiểu dữ liệu của data: <class 'list'>\n",
      "Kích thước của data: 16 dòng,  5 cột\n",
      "Danh sách các cột: ['Team', 'Goals', 'Yellow Cards', 'Red Cards', 'Shooting Accuracy']\n"
     ]
    }
   ],
   "source": [
    "import numpy as np\n",
    "# 1. Đọc dữ liệu từ tệp euro2012.csv vào danh sách\n",
    "with open('euro2012.csv', 'r') as file:\n",
    "    lines = file.readlines()\n",
    "\n",
    "# Chia các dòng thành danh sách\n",
    "data = [line.strip().split(',') for line in lines]\n",
    "\n",
    "# In kiểu dữ liệu, kích thước và danh sách các cột\n",
    "print(\"Kiểu dữ liệu của data:\", type(data))\n",
    "print(\"Kích thước của data:\", len(data), \"dòng, \", len(data[0]), \"cột\")\n",
    "print(\"Danh sách các cột:\", [\"Team\", \"Goals\", \"Yellow Cards\", \"Red Cards\", \"Shooting Accuracy\"])\n"
   ]
  },
  {
   "cell_type": "code",
   "execution_count": 9,
   "metadata": {},
   "outputs": [
    {
     "ename": "NameError",
     "evalue": "name 'goals_column' is not defined",
     "output_type": "error",
     "traceback": [
      "\u001b[1;31m---------------------------------------------------------------------------\u001b[0m",
      "\u001b[1;31mNameError\u001b[0m                                 Traceback (most recent call last)",
      "Cell \u001b[1;32mIn[9], line 2\u001b[0m\n\u001b[0;32m      1\u001b[0m \u001b[38;5;66;03m#ls_column = [row[1] for row in data]\u001b[39;00m\n\u001b[1;32m----> 2\u001b[0m \u001b[38;5;28mprint\u001b[39m(\u001b[38;5;124m\"\u001b[39m\u001b[38;5;124mGiá trị cột Goals:\u001b[39m\u001b[38;5;124m\"\u001b[39m, \u001b[43mgoals_column\u001b[49m)\n",
      "\u001b[1;31mNameError\u001b[0m: name 'goals_column' is not defined"
     ]
    }
   ],
   "source": [
    "#ls_column = [row[1] for row in data]\n",
    "print(\"Giá trị cột Goals:\", goals_column)\n"
   ]
  },
  {
   "cell_type": "code",
   "execution_count": 8,
   "metadata": {},
   "outputs": [
    {
     "name": "stdout",
     "output_type": "stream",
     "text": [
      "Số lượng đội tham gia Euro2012: 15\n"
     ]
    }
   ],
   "source": [
    "# 3. Có bao nhiêu đội tham gia Euro2012?\n",
    "teams = {row[0] for row in data[1:]}  # Sử dụng set để loại bỏ đội trùng lặp\n",
    "num_teams = len(teams)\n",
    "print(\"Số lượng đội tham gia Euro2012:\", num_teams)\n"
   ]
  },
  {
   "cell_type": "code",
   "execution_count": 7,
   "metadata": {},
   "outputs": [
    {
     "name": "stdout",
     "output_type": "stream",
     "text": [
      "Thông tin của Euro2012:\n",
      "Tổng số đội: 15 đội\n",
      "Cột: ['Team', 'Goals', 'Yellow Cards', 'Red Cards', 'Shooting Accuracy']\n"
     ]
    }
   ],
   "source": [
    "# 4. In thông tin của Euro2012.\n",
    "print(\"Thông tin của Euro2012:\")\n",
    "print(\"Tổng số đội:\", len(data) - 1, \"đội\")  # -1 vì có một dòng tiêu đề\n",
    "print(\"Cột:\", [\"Team\", \"Goals\", \"Yellow Cards\", \"Red Cards\", \"Shooting Accuracy\"])"
   ]
  },
  {
   "cell_type": "code",
   "execution_count": 6,
   "metadata": {},
   "outputs": [
    {
     "ename": "NameError",
     "evalue": "name 'discipline' is not defined",
     "output_type": "error",
     "traceback": [
      "\u001b[1;31m---------------------------------------------------------------------------\u001b[0m",
      "\u001b[1;31mNameError\u001b[0m                                 Traceback (most recent call last)",
      "Cell \u001b[1;32mIn[6], line 2\u001b[0m\n\u001b[0;32m      1\u001b[0m \u001b[38;5;66;03m# 6. Sắp xếp discipline giảm dần theo 2 cột 'Red Cards', 'Yellow Cards'.\u001b[39;00m\n\u001b[1;32m----> 2\u001b[0m discipline_sorted \u001b[38;5;241m=\u001b[39m \u001b[38;5;28msorted\u001b[39m(\u001b[43mdiscipline\u001b[49m, key\u001b[38;5;241m=\u001b[39m\u001b[38;5;28;01mlambda\u001b[39;00m x: (\u001b[38;5;28mint\u001b[39m(x[\u001b[38;5;241m1\u001b[39m]), \u001b[38;5;28mint\u001b[39m(x[\u001b[38;5;241m2\u001b[39m])), reverse\u001b[38;5;241m=\u001b[39m\u001b[38;5;28;01mTrue\u001b[39;00m)\n\u001b[0;32m      3\u001b[0m \u001b[38;5;28mprint\u001b[39m(\u001b[38;5;124m\"\u001b[39m\u001b[38;5;124mDataFrame discipline sau khi sắp xếp:\u001b[39m\u001b[38;5;124m\"\u001b[39m)\n\u001b[0;32m      4\u001b[0m \u001b[38;5;28;01mfor\u001b[39;00m row \u001b[38;5;129;01min\u001b[39;00m discipline_sorted:\n",
      "\u001b[1;31mNameError\u001b[0m: name 'discipline' is not defined"
     ]
    }
   ],
   "source": [
    "# 6. Sắp xếp discipline giảm dần theo 2 cột 'Red Cards', 'Yellow Cards'.\n",
    "discipline_sorted = sorted(discipline, key=lambda x: (int(x[1]), int(x[2])), reverse=True)\n",
    "print(\"DataFrame discipline sau khi sắp xếp:\")\n",
    "for row in discipline_sorted:\n",
    "    print(row)"
   ]
  },
  {
   "cell_type": "code",
   "execution_count": 5,
   "metadata": {},
   "outputs": [
    {
     "name": "stdout",
     "output_type": "stream",
     "text": [
      "Trung bình Yellow Cards: 3.4\n"
     ]
    }
   ],
   "source": [
    " # Tính trung bình Yellow Cards.\n",
    "yellow_cards = [int(row[2]) for row in data[1:]]\n",
    "avg_yellow_cards = sum(yellow_cards) / len(yellow_cards)\n",
    "print(\"Trung bình Yellow Cards:\", avg_yellow_cards)"
   ]
  }
 ],
 "metadata": {
  "kernelspec": {
   "display_name": "Python 3",
   "language": "python",
   "name": "python3"
  },
  "language_info": {
   "codemirror_mode": {
    "name": "ipython",
    "version": 3
   },
   "file_extension": ".py",
   "mimetype": "text/x-python",
   "name": "python",
   "nbconvert_exporter": "python",
   "pygments_lexer": "ipython3",
   "version": "3.12.6"
  }
 },
 "nbformat": 4,
 "nbformat_minor": 2
}
