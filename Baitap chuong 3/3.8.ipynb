{
 "cells": [
  {
   "cell_type": "code",
   "execution_count": 4,
   "metadata": {},
   "outputs": [
    {
     "ename": "NameError",
     "evalue": "name 'np' is not defined",
     "output_type": "error",
     "traceback": [
      "\u001b[1;31m---------------------------------------------------------------------------\u001b[0m",
      "\u001b[1;31mNameError\u001b[0m                                 Traceback (most recent call last)",
      "Cell \u001b[1;32mIn[4], line 2\u001b[0m\n\u001b[0;32m      1\u001b[0m \u001b[38;5;66;03m# 5. Sắp mảng players theo chiều cao\u001b[39;00m\n\u001b[1;32m----> 2\u001b[0m players_sorted \u001b[38;5;241m=\u001b[39m \u001b[43mnp\u001b[49m\u001b[38;5;241m.\u001b[39msort(players, order\u001b[38;5;241m=\u001b[39m\u001b[38;5;124m'\u001b[39m\u001b[38;5;124mheight\u001b[39m\u001b[38;5;124m'\u001b[39m)  \u001b[38;5;66;03m# Sắp xếp theo chiều cao\u001b[39;00m\n\u001b[0;32m      4\u001b[0m \u001b[38;5;66;03m# Chiều cao cao nhất và thấp nhất\u001b[39;00m\n\u001b[0;32m      5\u001b[0m highest_player \u001b[38;5;241m=\u001b[39m players_sorted[\u001b[38;5;241m-\u001b[39m\u001b[38;5;241m1\u001b[39m]  \u001b[38;5;66;03m# Người chơi cao nhất\u001b[39;00m\n",
      "\u001b[1;31mNameError\u001b[0m: name 'np' is not defined"
     ]
    }
   ],
   "source": [
    "# 5. Sắp mảng players theo chiều cao\n",
    "players_sorted = np.sort(players, order='height')  # Sắp xếp theo chiều cao\n",
    "\n",
    "# Chiều cao cao nhất và thấp nhất\n",
    "highest_player = players_sorted[-1]  # Người chơi cao nhất\n",
    "lowest_player = players_sorted[0]  # Người chơi thấp nhất\n",
    "\n",
    "print(\"Vị trí có chiều cao cao nhất:\", highest_player['position'], \"với chiều cao:\", highest_player['height'])\n",
    "print(\"Vị trí có chiều cao thấp nhất:\", lowest_player['position'], \"với chiều cao:\", lowest_player['height'])"
   ]
  },
  {
   "cell_type": "code",
   "execution_count": 5,
   "metadata": {},
   "outputs": [
    {
     "ename": "NameError",
     "evalue": "name 'np' is not defined",
     "output_type": "error",
     "traceback": [
      "\u001b[1;31m---------------------------------------------------------------------------\u001b[0m",
      "\u001b[1;31mNameError\u001b[0m                                 Traceback (most recent call last)",
      "Cell \u001b[1;32mIn[5], line 2\u001b[0m\n\u001b[0;32m      1\u001b[0m \u001b[38;5;66;03m# Tạo mảng dữ liệu có cấu trúc tự định nghĩa players\u001b[39;00m\n\u001b[1;32m----> 2\u001b[0m players_dtype \u001b[38;5;241m=\u001b[39m \u001b[43mnp\u001b[49m\u001b[38;5;241m.\u001b[39mdtype([(\u001b[38;5;124m'\u001b[39m\u001b[38;5;124mposition\u001b[39m\u001b[38;5;124m'\u001b[39m, \u001b[38;5;124m'\u001b[39m\u001b[38;5;124mU5\u001b[39m\u001b[38;5;124m'\u001b[39m), (\u001b[38;5;124m'\u001b[39m\u001b[38;5;124mheight\u001b[39m\u001b[38;5;124m'\u001b[39m, \u001b[38;5;124m'\u001b[39m\u001b[38;5;124mfloat\u001b[39m\u001b[38;5;124m'\u001b[39m)])  \u001b[38;5;66;03m# Định nghĩa kiểu dữ liệu\u001b[39;00m\n\u001b[0;32m      3\u001b[0m players \u001b[38;5;241m=\u001b[39m np\u001b[38;5;241m.\u001b[39mempty(\u001b[38;5;28mlen\u001b[39m(positions), dtype\u001b[38;5;241m=\u001b[39mplayers_dtype)  \u001b[38;5;66;03m# Tạo mảng rỗng\u001b[39;00m\n\u001b[0;32m      5\u001b[0m players[\u001b[38;5;124m'\u001b[39m\u001b[38;5;124mposition\u001b[39m\u001b[38;5;124m'\u001b[39m] \u001b[38;5;241m=\u001b[39m np_positions  \u001b[38;5;66;03m# Gán vị trí vào mảng\u001b[39;00m\n",
      "\u001b[1;31mNameError\u001b[0m: name 'np' is not defined"
     ]
    }
   ],
   "source": [
    "# Tạo mảng dữ liệu có cấu trúc tự định nghĩa players\n",
    "players_dtype = np.dtype([('position', 'U5'), ('height', 'float')])  # Định nghĩa kiểu dữ liệu\n",
    "players = np.empty(len(positions), dtype=players_dtype)  # Tạo mảng rỗng\n",
    "\n",
    "players['position'] = np_positions  # Gán vị trí vào mảng\n",
    "players['height'] = np_heights  # Gán chiều cao vào mảng\n"
   ]
  },
  {
   "cell_type": "code",
   "execution_count": 7,
   "metadata": {},
   "outputs": [
    {
     "ename": "NameError",
     "evalue": "name 'np_heights' is not defined",
     "output_type": "error",
     "traceback": [
      "\u001b[1;31m---------------------------------------------------------------------------\u001b[0m",
      "\u001b[1;31mNameError\u001b[0m                                 Traceback (most recent call last)",
      "Cell \u001b[1;32mIn[7], line 2\u001b[0m\n\u001b[0;32m      1\u001b[0m \u001b[38;5;66;03m# 3. Tính chiều cao trung bình của những vị trí khác (Không phải là GK)\u001b[39;00m\n\u001b[1;32m----> 2\u001b[0m other_heights \u001b[38;5;241m=\u001b[39m \u001b[43mnp_heights\u001b[49m[np_positions \u001b[38;5;241m!=\u001b[39m \u001b[38;5;124m'\u001b[39m\u001b[38;5;124mGK\u001b[39m\u001b[38;5;124m'\u001b[39m]  \u001b[38;5;66;03m# Lọc chiều cao của các vị trí khác\u001b[39;00m\n\u001b[0;32m      3\u001b[0m avg_height_others \u001b[38;5;241m=\u001b[39m np\u001b[38;5;241m.\u001b[39mmean(other_heights)  \u001b[38;5;66;03m# Tính chiều cao trung bình của các vị trí khác\u001b[39;00m\n\u001b[0;32m      4\u001b[0m \u001b[38;5;28mprint\u001b[39m(\u001b[38;5;124m\"\u001b[39m\u001b[38;5;124mChiều cao trung bình của các vị trí khác:\u001b[39m\u001b[38;5;124m\"\u001b[39m, avg_height_others)\n",
      "\u001b[1;31mNameError\u001b[0m: name 'np_heights' is not defined"
     ]
    }
   ],
   "source": [
    "# 3. Tính chiều cao trung bình của những vị trí khác (Không phải là GK)\n",
    "other_heights = np_heights[np_positions != 'GK']  # Lọc chiều cao của các vị trí khác\n",
    "avg_height_others = np.mean(other_heights)  # Tính chiều cao trung bình của các vị trí khác\n",
    "print(\"Chiều cao trung bình của các vị trí khác:\", avg_height_others)\n"
   ]
  },
  {
   "cell_type": "code",
   "execution_count": 8,
   "metadata": {},
   "outputs": [
    {
     "ename": "NameError",
     "evalue": "name 'np_heights' is not defined",
     "output_type": "error",
     "traceback": [
      "\u001b[1;31m---------------------------------------------------------------------------\u001b[0m",
      "\u001b[1;31mNameError\u001b[0m                                 Traceback (most recent call last)",
      "Cell \u001b[1;32mIn[8], line 2\u001b[0m\n\u001b[0;32m      1\u001b[0m \u001b[38;5;66;03m# 2. Tính chiều cao trung bình của các GK\u001b[39;00m\n\u001b[1;32m----> 2\u001b[0m gk_heights \u001b[38;5;241m=\u001b[39m \u001b[43mnp_heights\u001b[49m[np_positions \u001b[38;5;241m==\u001b[39m \u001b[38;5;124m'\u001b[39m\u001b[38;5;124mGK\u001b[39m\u001b[38;5;124m'\u001b[39m]  \u001b[38;5;66;03m# Lọc chiều cao của GK\u001b[39;00m\n\u001b[0;32m      3\u001b[0m avg_height_gk \u001b[38;5;241m=\u001b[39m np\u001b[38;5;241m.\u001b[39mmean(gk_heights)  \u001b[38;5;66;03m# Tính chiều cao trung bình của GK\u001b[39;00m\n\u001b[0;32m      4\u001b[0m \u001b[38;5;28mprint\u001b[39m(\u001b[38;5;124m\"\u001b[39m\u001b[38;5;124mChiều cao trung bình của các GK:\u001b[39m\u001b[38;5;124m\"\u001b[39m, avg_height_gk)\n",
      "\u001b[1;31mNameError\u001b[0m: name 'np_heights' is not defined"
     ]
    }
   ],
   "source": [
    "# 2. Tính chiều cao trung bình của các GK\n",
    "gk_heights = np_heights[np_positions == 'GK']  # Lọc chiều cao của GK\n",
    "avg_height_gk = np.mean(gk_heights)  # Tính chiều cao trung bình của GK\n",
    "print(\"Chiều cao trung bình của các GK:\", avg_height_gk)"
   ]
  },
  {
   "cell_type": "code",
   "execution_count": 1,
   "metadata": {},
   "outputs": [
    {
     "ename": "SyntaxError",
     "evalue": "invalid syntax (1528461041.py, line 1)",
     "output_type": "error",
     "traceback": [
      "\u001b[1;36m  Cell \u001b[1;32mIn[1], line 1\u001b[1;36m\u001b[0m\n\u001b[1;33m    1. Đọc dữ liệu từ hai tệp heights.txt và positions.txt\u001b[0m\n\u001b[1;37m       ^\u001b[0m\n\u001b[1;31mSyntaxError\u001b[0m\u001b[1;31m:\u001b[0m invalid syntax\n"
     ]
    }
   ],
   "source": [
    " # Đọc dữ liệu từ hai tệp heights.txt và positions.txt\n",
    "with open('heights.txt', 'r') as file_heights:\n",
    "    heights = [float(line.strip()) for line in file_heights.readlines()]  # Đọc chiều cao\n",
    "\n",
    "with open('positions.txt', 'r') as file_positions:\n",
    "    positions = [line.strip() for line in file_positions.readlines()]  # Đọc vị trí\n",
    "\n",
    "# 1.a) Tạo numpy array np_positions từ list positions\n",
    "np_positions = np.array(positions)\n",
    "print(\"Kiểu dữ liệu của np_positions:\", np_positions.dtype)\n",
    "\n",
    "# 1.b) Tạo numpy array np_heights từ list heights\n",
    "np_heights = np.array(heights)\n",
    "print(\"Kiểu dữ liệu của np_heights:\", np_heights.dtype)"
   ]
  }
 ],
 "metadata": {
  "kernelspec": {
   "display_name": "Python 3",
   "language": "python",
   "name": "python3"
  },
  "language_info": {
   "codemirror_mode": {
    "name": "ipython",
    "version": 3
   },
   "file_extension": ".py",
   "mimetype": "text/x-python",
   "name": "python",
   "nbconvert_exporter": "python",
   "pygments_lexer": "ipython3",
   "version": "3.12.6"
  }
 },
 "nbformat": 4,
 "nbformat_minor": 2
}
